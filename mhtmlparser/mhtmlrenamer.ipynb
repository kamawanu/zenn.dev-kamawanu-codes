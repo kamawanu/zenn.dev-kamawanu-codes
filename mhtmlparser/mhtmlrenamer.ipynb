{
  "nbformat": 4,
  "nbformat_minor": 0,
  "metadata": {
    "colab": {
      "provenance": []
    },
    "kernelspec": {
      "name": "python3",
      "display_name": "Python 3"
    },
    "language_info": {
      "name": "python"
    }
  },
  "cells": [
    {
      "cell_type": "code",
      "source": [
        "from google.colab import drive\n",
        "import os.path\n",
        "if not os.path.isdir(\"/content/drive\"):\n",
        "  drive.mount('/content/drive')"
      ],
      "metadata": {
        "id": "rksnTlPWJ0Kw",
        "colab": {
          "base_uri": "https://localhost:8080/"
        },
        "outputId": "7e86aab1-f170-4e05-99a2-73c670498128"
      },
      "execution_count": 13,
      "outputs": [
        {
          "output_type": "stream",
          "name": "stdout",
          "text": [
            "Mounted at /content/drive\n"
          ]
        }
      ]
    },
    {
      "cell_type": "code",
      "source": [
        "#! wget -N https://raw.githubusercontent.com/kamawanu/zenn.dev-kamawanu-codes/main/htmlparser/htmlminidom.py"
      ],
      "metadata": {
        "id": "vfEwnTKiUed5"
      },
      "execution_count": null,
      "outputs": []
    },
    {
      "cell_type": "code",
      "source": [
        "#! wget -N https://raw.githubusercontent.com/kamawanu/zenn.dev-kamawanu-codes/main/mhtmlparser/mhtmlmini.py"
      ],
      "metadata": {
        "id": "7f6fSDvLUmj9"
      },
      "execution_count": null,
      "outputs": []
    },
    {
      "cell_type": "code",
      "source": [
        "import sys\n",
        "import htmlminidom\n",
        "import mhtmlmini\n",
        "import importlib"
      ],
      "metadata": {
        "id": "-ZJKI8lRD4PW"
      },
      "execution_count": 14,
      "outputs": []
    },
    {
      "cell_type": "code",
      "source": [
        "import glob\n",
        "import os.path\n",
        "import os\n",
        "import urllib\n",
        "import time"
      ],
      "metadata": {
        "id": "ljEF90MBEgJl"
      },
      "execution_count": 15,
      "outputs": []
    },
    {
      "cell_type": "code",
      "source": [
        "def bepixiv(*,html,mhtml):\n",
        "  ptitle = html.find(\"h1\")\n",
        "  if not ptitle is None:\n",
        "    try:\n",
        "      atitle = html.find(\"h2\").find(\"a\").find (\"div\").attrs[\"title\"]\n",
        "    except AttributeError as exc:\n",
        "      print(exc,fn)\n",
        "      return None\n",
        "    ktags = []\n",
        "    mtags = []\n",
        "    for tagtag in html.find(\"footer\").find(\"ul\").finditer(\"li\"):\n",
        "        tag = tagtag[0][0][0]\n",
        "        if type(tag) is str:\n",
        "            ktags.append(f\"#{tag}\")\n",
        "        if type(tag).__name__ == \"dom\" and tag.tag == \"a\":\n",
        "            mtags.append(tag.content[0])\n",
        "    ktags = \" \".join(ktags)\n",
        "    newfnn = f\"pixiv {atitle} {ptitle[0]} {ktags} @{pu}.mhtml\"\n",
        "  else:\n",
        "    newfnn = f\"pixiv {roottitle} @{pu}.mhtml\"\n",
        "  return newfnn"
      ],
      "metadata": {
        "id": "nRtGqrzMAJzJ"
      },
      "execution_count": 16,
      "outputs": []
    },
    {
      "cell_type": "code",
      "source": [
        "def viewtitle(*,html,mhtml):\n",
        "  print(mhtml.homeurl,html.find(\"title\")[0].replace(\"\\n\",\"\"))"
      ],
      "metadata": {
        "id": "HqRK4gR0BjXO"
      },
      "execution_count": 17,
      "outputs": []
    },
    {
      "cell_type": "code",
      "source": [
        "def lastunique(*,html,mhtml):\n",
        "  t = html.find(\"title\")[0]\n",
        "  u = urllib.parse.urlparse(mhtml.homeurl)\n",
        "  p = u.path.split(\"/\")\n",
        "  t = t.replace(f\"#{u.hostname}\",\"\").replace(f\"#{p[-1]}\",\"\")\n",
        "  r = f\"{u.hostname} {p[-1]} {t}\".replace(\".html\",\"\").replace(\".\",\"_\") + \".mhtml\"\n",
        "  return r"
      ],
      "metadata": {
        "id": "6pWOWztWDCXO"
      },
      "execution_count": 18,
      "outputs": []
    },
    {
      "cell_type": "code",
      "source": [
        "def deviantart(*,html,mhtml):\n",
        "  t = html.find(\"title\")[0]\n",
        "  u = urllib.parse.urlparse(mhtml.homeurl)\n",
        "  p = u.path.split(\"/\")[1:]\n",
        "  r = f\"{u.hostname} {p[0]} {t}\".replace(\".\",\"_\") + \".mhtml\"\n",
        "  return r"
      ],
      "metadata": {
        "id": "AfDoBarSDCoL"
      },
      "execution_count": 19,
      "outputs": []
    },
    {
      "cell_type": "code",
      "source": [
        "def hostonly(*,html,mhtml):\n",
        "  t = html.find(\"title\")[0]\n",
        "  u = urllib.parse.urlparse(mhtml.homeurl)\n",
        "  r = f\"{u.hostname} {t}\".replace(\".html\",\"\").replace(\".\",\"_\") + \".mhtml\"\n",
        "  return r"
      ],
      "metadata": {
        "id": "5g8B8uGIHxLA"
      },
      "execution_count": 20,
      "outputs": []
    },
    {
      "cell_type": "code",
      "source": [
        "methods = {\n",
        "    \"www.pixiv.net\": bepixiv,\n",
        "    #\"iwamkumo.fanbox.cc\": False,\n",
        "    \"www.rubbermagic.de\": lastunique,\n",
        "    \"libidex.com\": lastunique,\n",
        "    \"ja.aliexpress.com\": lastunique,\n",
        "    \"www.deviantart.com\": deviantart,\n",
        "    \"www.hwdesignshop.com\": hostonly,\n",
        "    \"www.ebay.com\": lastunique,\n",
        "    \"www.etsy.com\": lastunique,\n",
        "    \"store.fetishfactory.com\": lastunique,\n",
        "    \"www.wish.com\": hostonly,\n",
        "    \"www.ebay.co.uk\": lastunique,\n",
        "    \"www.dreammask.net\": hostonly,\n",
        "    \"www.demask.com\": hostonly,\n",
        "    \"www.simon-o.com\": hostonly,\n",
        "    \"rubear.moscow\": lastunique,\n",
        "    \"www.kinkprojects.com\": hostonly,\n",
        "    \"www.desertcart.is\": hostonly,\n",
        "    'twitter.com': None,\n",
        "    'jp.quora.com': hostonly, \n",
        "    'www.flickr.com': None, \n",
        "    'fetcherx.com': hostonly, \n",
        "    'www.eurocatsuits.com': hostonly, \n",
        "    'www.facebook.com': lastunique, \n",
        "    'm.facebook.com' : lastunique,\n",
        "    'stock.adobe.com': hostonly,\n",
        "    'www.one-tab.com': lastunique,\n",
        "    \"twitter.com\": lastunique,\n",
        "    'i.imgur.com': lastunique,\n",
        "    'www.flickr.com': lastunique,\n",
        "}"
      ],
      "metadata": {
        "id": "xUtBs7snErKr"
      },
      "execution_count": 21,
      "outputs": []
    },
    {
      "cell_type": "code",
      "source": [
        "def pixivfanbox(*,html,mhtml):\n",
        "  ll = tuple(html.finditer(\"h1\"))\n",
        "  aname = ll[0][0].content[0]\n",
        "  xtitle = ll[-1].content[0]\n",
        "  uz = urllib.parse.urlparse(mhtml.homeurl)\n",
        "  u = uz.path.split(\"/\")[-1]\n",
        "  r = f\"{uz.hostname} {aname} {xtitle} @{u}\".replace(\".\",\"_\")\n",
        "  return r"
      ],
      "metadata": {
        "id": "wfxvAQ5UHwxz"
      },
      "execution_count": 22,
      "outputs": []
    },
    {
      "cell_type": "code",
      "source": [
        "unknown = set()\n",
        "for fn in glob.glob(\"/content/drive/MyDrive/mhtml-incoming/*.mht*\"):\n",
        "  if \".DUP.\" in fn:\n",
        "    os.remove(fn)\n",
        "    continue\n",
        "  assert os.path.isfile(fn)\n",
        "  fndir = os.path.dirname(fn)\n",
        "  fnname = os.path.basename(fn)\n",
        "\n",
        "  dsdir = fndir.replace(\"incoming\",\"named\")\n",
        "  if not os.path.isdir(dsdir):\n",
        "    os.mkdir(dsdir)\n",
        "\n",
        "  mhtml = False\n",
        "  try:\n",
        "    mhtml = mhtmlmini.from_file(fn)\n",
        "    html = htmlminidom.htmlminiparser()\n",
        "    behtml = mhtml.gethome().get_payload()\n",
        "  #except TypeError as exc:\n",
        "  #  print(f\"?? {exc}\",fn)\n",
        "  #  continue\n",
        "  except UnicodeDecodeError as exc:\n",
        "    print(fn,exc,mhtml)\n",
        "    continue\n",
        "  assert type(behtml) is str, behtml\n",
        "  html.feed(behtml)\n",
        "  upz = urllib.parse.urlparse(mhtml.homeurl)\n",
        "  pu = upz.path.split(\"/\")[-1]\n",
        "  newfnn = None\n",
        "  roottitle = html.find(\"title\")[0]\n",
        "\n",
        "  _method = methods.get(upz.hostname)\n",
        "  if _method is None and ( \"latex\" in upz.hostname ) or ( \"rubber\" in upz.hostname ):\n",
        "    _method = hostonly\n",
        "  if _method is None and ( \"fanbox.cc\" in upz.hostname ):\n",
        "    _method = pixivfanbox\n",
        "\n",
        "  if _method is False:\n",
        "    print(fn,upz.hostname)\n",
        "  elif _method is None:\n",
        "    viewtitle(html=html,mhtml=mhtml)\n",
        "    unknown.add(upz.hostname)\n",
        "  else:\n",
        "    newfnn = _method(html=html,mhtml=mhtml)\n",
        "    #print(fn,mhtml.homeurl,html.find(\"title\").content[0])\n",
        "  if newfnn is not None:\n",
        "    assert not \"{\" in newfnn\n",
        "    if not \".mhtml\" in newfnn:\n",
        "      newfnn = newfnn + \".mhtml\"\n",
        "    newfnn = newfnn.replace(\"/\",\"_\").replace(\".html\",\"\")\n",
        "    #if fnname != newfnn:\n",
        "    newfnn = newfnn.replace(f\"##{upz.hostname}\",\"\")\n",
        "    nande=(fn, f\"{dsdir}/{newfnn}\" )\n",
        "    if os.path.isfile(nande[1]):\n",
        "      if os.path.getmtime(nande[0]) < os.path.getmtime(nande[1]):\n",
        "        os.remove(nande[0])\n",
        "        assert not os.path.isfile(nande[0])\n",
        "        continue\n",
        "      else:\n",
        "        os.remove(nande[1])\n",
        "    assert os.path.isfile(nande[0]) and not os.path.isfile(nande[1]), nande\n",
        "    try:\n",
        "      os.rename(*nande)\n",
        "    except OSError as exc:\n",
        "      print(exc)\n",
        "      continue\n",
        "    assert os.path.isfile(nande[1]), f\"rename failed {nande}\"\n",
        "    assert not os.path.isfile(nande[0]), f\"rename failed {nande}\"\n",
        "    print(nande)\n",
        "  pass#break\n",
        "print(unknown)"
      ],
      "metadata": {
        "colab": {
          "base_uri": "https://localhost:8080/",
          "height": 385
        },
        "id": "igRG_fvSpGbt",
        "outputId": "8677abab-f552-4f44-9445-89cdee3bd577"
      },
      "execution_count": 23,
      "outputs": [
        {
          "output_type": "error",
          "ename": "TypeError",
          "evalue": "ignored",
          "traceback": [
            "\u001b[0;31m---------------------------------------------------------------------------\u001b[0m",
            "\u001b[0;31mTypeError\u001b[0m                                 Traceback (most recent call last)",
            "\u001b[0;32m<ipython-input-23-37ec34628b6c>\u001b[0m in \u001b[0;36m<module>\u001b[0;34m\u001b[0m\n\u001b[1;32m     14\u001b[0m   \u001b[0mmhtml\u001b[0m \u001b[0;34m=\u001b[0m \u001b[0;32mFalse\u001b[0m\u001b[0;34m\u001b[0m\u001b[0;34m\u001b[0m\u001b[0m\n\u001b[1;32m     15\u001b[0m   \u001b[0;32mtry\u001b[0m\u001b[0;34m:\u001b[0m\u001b[0;34m\u001b[0m\u001b[0;34m\u001b[0m\u001b[0m\n\u001b[0;32m---> 16\u001b[0;31m     \u001b[0mmhtml\u001b[0m \u001b[0;34m=\u001b[0m \u001b[0mmhtmlmini\u001b[0m\u001b[0;34m.\u001b[0m\u001b[0mfrom_file\u001b[0m\u001b[0;34m(\u001b[0m\u001b[0mfn\u001b[0m\u001b[0;34m)\u001b[0m\u001b[0;34m\u001b[0m\u001b[0;34m\u001b[0m\u001b[0m\n\u001b[0m\u001b[1;32m     17\u001b[0m     \u001b[0mhtml\u001b[0m \u001b[0;34m=\u001b[0m \u001b[0mhtmlminidom\u001b[0m\u001b[0;34m.\u001b[0m\u001b[0mhtmlminiparser\u001b[0m\u001b[0;34m(\u001b[0m\u001b[0;34m)\u001b[0m\u001b[0;34m\u001b[0m\u001b[0;34m\u001b[0m\u001b[0m\n\u001b[1;32m     18\u001b[0m     \u001b[0mbehtml\u001b[0m \u001b[0;34m=\u001b[0m \u001b[0mmhtml\u001b[0m\u001b[0;34m.\u001b[0m\u001b[0mgethome\u001b[0m\u001b[0;34m(\u001b[0m\u001b[0;34m)\u001b[0m\u001b[0;34m.\u001b[0m\u001b[0mget_payload\u001b[0m\u001b[0;34m(\u001b[0m\u001b[0;34m)\u001b[0m\u001b[0;34m\u001b[0m\u001b[0;34m\u001b[0m\u001b[0m\n",
            "\u001b[0;32m/content/mhtmlmini.py\u001b[0m in \u001b[0;36mfrom_file\u001b[0;34m(fn)\u001b[0m\n\u001b[1;32m    164\u001b[0m \u001b[0;34m\u001b[0m\u001b[0m\n\u001b[1;32m    165\u001b[0m \u001b[0;32mdef\u001b[0m \u001b[0mfrom_file\u001b[0m\u001b[0;34m(\u001b[0m\u001b[0mfn\u001b[0m\u001b[0;34m)\u001b[0m\u001b[0;34m:\u001b[0m\u001b[0;34m\u001b[0m\u001b[0;34m\u001b[0m\u001b[0m\n\u001b[0;32m--> 166\u001b[0;31m     \u001b[0;32mreturn\u001b[0m \u001b[0mcompositemedia\u001b[0m\u001b[0;34m.\u001b[0m\u001b[0mfrom_file\u001b[0m\u001b[0;34m(\u001b[0m\u001b[0mfn\u001b[0m\u001b[0;34m)\u001b[0m\u001b[0;34m\u001b[0m\u001b[0;34m\u001b[0m\u001b[0m\n\u001b[0m\u001b[1;32m    167\u001b[0m \u001b[0;34m\u001b[0m\u001b[0m\n\u001b[1;32m    168\u001b[0m \u001b[0;32mif\u001b[0m \u001b[0m__name__\u001b[0m \u001b[0;34m==\u001b[0m \u001b[0;34m\"__main__\"\u001b[0m\u001b[0;34m:\u001b[0m\u001b[0;34m\u001b[0m\u001b[0;34m\u001b[0m\u001b[0m\n",
            "\u001b[0;32m/content/mhtmlmini.py\u001b[0m in \u001b[0;36mfrom_file\u001b[0;34m(cls, fn)\u001b[0m\n\u001b[1;32m    143\u001b[0m                     \u001b[0;31m# breakpoint()\u001b[0m\u001b[0;34m\u001b[0m\u001b[0;34m\u001b[0m\u001b[0m\n\u001b[1;32m    144\u001b[0m                     mparts.add(\n\u001b[0;32m--> 145\u001b[0;31m                         \u001b[0mdiscretemedia\u001b[0m\u001b[0;34m(\u001b[0m\u001b[0mpendingheaders\u001b[0m\u001b[0;34m)\u001b[0m\u001b[0;34m\u001b[0m\u001b[0;34m\u001b[0m\u001b[0m\n\u001b[0m\u001b[1;32m    146\u001b[0m                     )\n\u001b[1;32m    147\u001b[0m                     \u001b[0mboundary\u001b[0m \u001b[0;34m=\u001b[0m \u001b[0mmparts\u001b[0m\u001b[0;34m.\u001b[0m\u001b[0mboundary\u001b[0m\u001b[0;34m\u001b[0m\u001b[0;34m\u001b[0m\u001b[0m\n",
            "\u001b[0;32m/content/mhtmlmini.py\u001b[0m in \u001b[0;36m__init__\u001b[0;34m(self, beheader)\u001b[0m\n\u001b[1;32m     58\u001b[0m                 self._rawheader[\"content-type\"])\n\u001b[1;32m     59\u001b[0m         \u001b[0;32mif\u001b[0m \u001b[0;34m\"subject\"\u001b[0m \u001b[0;32min\u001b[0m \u001b[0mself\u001b[0m\u001b[0;34m.\u001b[0m\u001b[0m_rawheader\u001b[0m\u001b[0;34m:\u001b[0m\u001b[0;34m\u001b[0m\u001b[0;34m\u001b[0m\u001b[0m\n\u001b[0;32m---> 60\u001b[0;31m             \u001b[0mself\u001b[0m\u001b[0;34m.\u001b[0m\u001b[0msubject_decoded\u001b[0m \u001b[0;34m=\u001b[0m \u001b[0msubjectdecode\u001b[0m\u001b[0;34m(\u001b[0m\u001b[0mself\u001b[0m\u001b[0;34m.\u001b[0m\u001b[0m_rawheader\u001b[0m\u001b[0;34m[\u001b[0m\u001b[0;34m\"subject\"\u001b[0m\u001b[0;34m]\u001b[0m\u001b[0;34m)\u001b[0m\u001b[0;34m\u001b[0m\u001b[0;34m\u001b[0m\u001b[0m\n\u001b[0m\u001b[1;32m     61\u001b[0m \u001b[0;34m\u001b[0m\u001b[0m\n\u001b[1;32m     62\u001b[0m     \u001b[0;32mdef\u001b[0m \u001b[0mhas_boundary\u001b[0m\u001b[0;34m(\u001b[0m\u001b[0mself\u001b[0m\u001b[0;34m)\u001b[0m\u001b[0;34m:\u001b[0m\u001b[0;34m\u001b[0m\u001b[0;34m\u001b[0m\u001b[0m\n",
            "\u001b[0;32m/content/mhtmlmini.py\u001b[0m in \u001b[0;36msubjectdecode\u001b[0;34m(qp_subject_header)\u001b[0m\n\u001b[1;32m     88\u001b[0m     \u001b[0;32mfor\u001b[0m \u001b[0mdecoded_part\u001b[0m \u001b[0;32min\u001b[0m \u001b[0mdecoded_tuple\u001b[0m\u001b[0;34m:\u001b[0m\u001b[0;34m\u001b[0m\u001b[0;34m\u001b[0m\u001b[0m\n\u001b[1;32m     89\u001b[0m         \u001b[0;32mif\u001b[0m \u001b[0mdecoded_part\u001b[0m\u001b[0;34m[\u001b[0m\u001b[0;36m1\u001b[0m\u001b[0;34m]\u001b[0m \u001b[0;32mis\u001b[0m \u001b[0;32mNone\u001b[0m\u001b[0;34m:\u001b[0m\u001b[0;34m\u001b[0m\u001b[0;34m\u001b[0m\u001b[0m\n\u001b[0;32m---> 90\u001b[0;31m             \u001b[0mdecoded_str\u001b[0m \u001b[0;34m+=\u001b[0m \u001b[0mdecoded_part\u001b[0m\u001b[0;34m[\u001b[0m\u001b[0;36m0\u001b[0m\u001b[0;34m]\u001b[0m\u001b[0;34m\u001b[0m\u001b[0;34m\u001b[0m\u001b[0m\n\u001b[0m\u001b[1;32m     91\u001b[0m         \u001b[0;32melse\u001b[0m\u001b[0;34m:\u001b[0m\u001b[0;34m\u001b[0m\u001b[0;34m\u001b[0m\u001b[0m\n\u001b[1;32m     92\u001b[0m             \u001b[0mdecoded_str\u001b[0m \u001b[0;34m+=\u001b[0m \u001b[0mdecoded_part\u001b[0m\u001b[0;34m[\u001b[0m\u001b[0;36m0\u001b[0m\u001b[0;34m]\u001b[0m\u001b[0;34m.\u001b[0m\u001b[0mdecode\u001b[0m\u001b[0;34m(\u001b[0m\u001b[0mdecoded_part\u001b[0m\u001b[0;34m[\u001b[0m\u001b[0;36m1\u001b[0m\u001b[0;34m]\u001b[0m\u001b[0;34m)\u001b[0m\u001b[0;34m\u001b[0m\u001b[0;34m\u001b[0m\u001b[0m\n",
            "\u001b[0;31mTypeError\u001b[0m: can only concatenate str (not \"bytes\") to str"
          ]
        }
      ]
    },
    {
      "cell_type": "code",
      "source": [
        "import importlib\n",
        "importlib.reload(mhtmlmini)"
      ],
      "metadata": {
        "id": "6iPNocz8hkOq"
      },
      "execution_count": null,
      "outputs": []
    }
  ]
}