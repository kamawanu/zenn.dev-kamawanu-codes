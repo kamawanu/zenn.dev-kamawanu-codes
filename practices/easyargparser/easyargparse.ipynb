{
 "cells": [
  {
   "cell_type": "code",
   "execution_count": 1,
   "metadata": {
    "scrolled": true
   },
   "outputs": [],
   "source": [
    "from easyargparse import *"
   ]
  },
  {
   "cell_type": "code",
   "execution_count": 2,
   "metadata": {},
   "outputs": [],
   "source": [
    "argv0 = ['ffmpeg',\n",
    "# '',\n",
    " '-i',\n",
    " 'inputMovie.mp4',\n",
    "# '',\n",
    " '-vf',\n",
    " 'scale=1920:1080,pad=1920:1080:0:0:black',\n",
    "# '',\n",
    " '-c:v',\n",
    " 'mpeg4',\n",
    " '-q:v',\n",
    " '1']"
   ]
  },
  {
   "cell_type": "code",
   "execution_count": 3,
   "metadata": {
    "scrolled": false
   },
   "outputs": [],
   "source": [
    "class argparse(easyArgParser):\n",
    "    videoframe = StringArg(short=\"vf\")\n",
    "    compvideo = StringArg(short=\"c:v\")\n",
    "    qualityvideo = IntArg(short=\"q:v\")\n",
    "    inputvideo = StringArg(short=\"i\")"
   ]
  },
  {
   "cell_type": "code",
   "execution_count": 4,
   "metadata": {
    "scrolled": true
   },
   "outputs": [],
   "source": [
    "arg = argparse(argv0)"
   ]
  },
  {
   "cell_type": "code",
   "execution_count": 5,
   "metadata": {},
   "outputs": [
    {
     "data": {
      "text/plain": [
       "{'_restarg': ['ffmpeg'],\n",
       " 'inputvideo': 'inputMovie.mp4',\n",
       " 'videoframe': 'scale=1920:1080,pad=1920:1080:0:0:black',\n",
       " 'compvideo': 'mpeg4',\n",
       " 'qualityvideo': 1}"
      ]
     },
     "execution_count": 5,
     "metadata": {},
     "output_type": "execute_result"
    }
   ],
   "source": [
    "arg.__dict__"
   ]
  },
  {
   "cell_type": "code",
   "execution_count": 6,
   "metadata": {},
   "outputs": [
    {
     "data": {
      "text/plain": [
       "1"
      ]
     },
     "execution_count": 6,
     "metadata": {},
     "output_type": "execute_result"
    }
   ],
   "source": [
    "arg.qualityvideo"
   ]
  },
  {
   "cell_type": "code",
   "execution_count": 7,
   "metadata": {
    "scrolled": false
   },
   "outputs": [
    {
     "data": {
      "text/plain": [
       "{'_restarg': [], 'a': 1, 'b': 1}"
      ]
     },
     "execution_count": 7,
     "metadata": {},
     "output_type": "execute_result"
    }
   ],
   "source": [
    "class oneopt(easyArgParser):\n",
    "    a = BoolArg()\n",
    "    b = BoolArg()\n",
    "    c = BoolArg()\n",
    "\n",
    "oneopt([\"-ab\"]).__dict__"
   ]
  },
  {
   "cell_type": "code",
   "execution_count": null,
   "metadata": {},
   "outputs": [],
   "source": []
  }
 ],
 "metadata": {
  "kernelspec": {
   "display_name": "Python 3",
   "language": "python",
   "name": "python3"
  },
  "language_info": {
   "codemirror_mode": {
    "name": "ipython",
    "version": 3
   },
   "file_extension": ".py",
   "mimetype": "text/x-python",
   "name": "python",
   "nbconvert_exporter": "python",
   "pygments_lexer": "ipython3",
   "version": "3.8.5"
  }
 },
 "nbformat": 4,
 "nbformat_minor": 4
}
